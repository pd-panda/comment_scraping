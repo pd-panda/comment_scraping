{
 "cells": [
  {
   "cell_type": "code",
   "execution_count": 1,
   "metadata": {},
   "outputs": [],
   "source": [
    "# -*- coding: utf-8 -*-"
   ]
  },
  {
   "cell_type": "code",
   "execution_count": 2,
   "metadata": {},
   "outputs": [],
   "source": [
    "import os\n",
    "import pandas as pd"
   ]
  },
  {
   "cell_type": "code",
   "execution_count": 3,
   "metadata": {},
   "outputs": [],
   "source": [
    "class GetComment:\n",
    "    filedir = \"txt\"\n",
    "    filename = \"meeting_saved_chat.txt\"\n",
    "    filepath = os.path.join(os.getcwd(), filedir, filename)\n",
    "    \n",
    "    savefiledir = \"csv\"\n",
    "    savefilename = \"savecsvfile.csv\"\n",
    "    savefilepath = os.path.join(os.getcwd(), savefiledir, savefilename)\n",
    "    \n",
    "    indexs = ['time', 'comment', 'contributor']\n",
    "           \n",
    "    def get_textdata_from_path(self, path):\n",
    "        with open(path) as f:\n",
    "            readtxt = f.read()\n",
    "        return readtxt\n",
    "    \n",
    "    def get_datalist_from_textdata(self, readtxt):\n",
    "        readtxtlist = readtxt.split('\\t 開始 ')\n",
    "        timelist = []\n",
    "        namelist = []\n",
    "        textlist = []\n",
    "        for a in readtxtlist:\n",
    "            if len(a.rsplit('\\n',1)) == 1:\n",
    "                timelist.append(a)\n",
    "            else:\n",
    "                if a.rsplit('\\n',1)[1] != '':\n",
    "                    timelist.append(a.rsplit('\\n',1)[1])\n",
    "                tx = a.rsplit('\\n',1)[0].split(' : ')\n",
    "                if len(tx) == 2:\n",
    "                    namelist.append(tx[0].replace('\\n', ''))\n",
    "                    textlist.append(tx[1].replace('\\n', ''))\n",
    "        datalist = []\n",
    "        datalist.append(timelist)\n",
    "        datalist.append(textlist)\n",
    "        datalist.append(namelist)\n",
    "        return datalist\n",
    "    \n",
    "    def get_df_from_datalist(self, datalist, indexs):\n",
    "        return pd.DataFrame(datalist, index=indexs)\n",
    "    \n",
    "    def save_csv_from_df(self, df, path):\n",
    "        df.to_csv(path)\n",
    "    \n",
    "    def main(self):\n",
    "        textlist = self.get_textdata_from_path(self.filepath)\n",
    "        datalist = self.get_datalist_from_textdata(textlist)\n",
    "        df = self.get_df_from_datalist(datalist, self.indexs)\n",
    "        self.save_csv_from_df(df, self.savefilepath)"
   ]
  },
  {
   "cell_type": "code",
   "execution_count": 4,
   "metadata": {},
   "outputs": [],
   "source": [
    "if __name__ == \"__main__\":\n",
    "    comment = GetComment()\n",
    "    comment.main()"
   ]
  },
  {
   "cell_type": "code",
   "execution_count": null,
   "metadata": {},
   "outputs": [],
   "source": []
  }
 ],
 "metadata": {
  "kernelspec": {
   "display_name": "Python 3",
   "language": "python",
   "name": "python3"
  },
  "language_info": {
   "codemirror_mode": {
    "name": "ipython",
    "version": 3
   },
   "file_extension": ".py",
   "mimetype": "text/x-python",
   "name": "python",
   "nbconvert_exporter": "python",
   "pygments_lexer": "ipython3",
   "version": "3.7.2"
  }
 },
 "nbformat": 4,
 "nbformat_minor": 4
}
